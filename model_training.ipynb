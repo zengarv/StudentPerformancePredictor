{
 "cells": [
  {
   "cell_type": "code",
   "execution_count": 109,
   "metadata": {},
   "outputs": [],
   "source": [
    "import pandas as pd\n",
    "import numpy as np\n",
    "\n",
    "# Make numpy values easier to read.\n",
    "np.set_printoptions(precision=3, suppress=True)\n",
    "\n",
    "import tensorflow as tf\n",
    "from tensorflow.keras import layers"
   ]
  },
  {
   "cell_type": "code",
   "execution_count": 110,
   "metadata": {},
   "outputs": [
    {
     "data": {
      "text/html": [
       "<div>\n",
       "<style scoped>\n",
       "    .dataframe tbody tr th:only-of-type {\n",
       "        vertical-align: middle;\n",
       "    }\n",
       "\n",
       "    .dataframe tbody tr th {\n",
       "        vertical-align: top;\n",
       "    }\n",
       "\n",
       "    .dataframe thead th {\n",
       "        text-align: right;\n",
       "    }\n",
       "</style>\n",
       "<table border=\"1\" class=\"dataframe\">\n",
       "  <thead>\n",
       "    <tr style=\"text-align: right;\">\n",
       "      <th></th>\n",
       "      <th>Hours Studied</th>\n",
       "      <th>Previous Scores</th>\n",
       "      <th>Extracurricular Activities</th>\n",
       "      <th>Sleep Hours</th>\n",
       "      <th>Sample Question Papers Practiced</th>\n",
       "      <th>Performance Index</th>\n",
       "    </tr>\n",
       "  </thead>\n",
       "  <tbody>\n",
       "    <tr>\n",
       "      <th>0</th>\n",
       "      <td>1</td>\n",
       "      <td>54</td>\n",
       "      <td>Yes</td>\n",
       "      <td>8</td>\n",
       "      <td>5</td>\n",
       "      <td>28.0</td>\n",
       "    </tr>\n",
       "    <tr>\n",
       "      <th>1</th>\n",
       "      <td>1</td>\n",
       "      <td>87</td>\n",
       "      <td>Yes</td>\n",
       "      <td>7</td>\n",
       "      <td>5</td>\n",
       "      <td>64.0</td>\n",
       "    </tr>\n",
       "    <tr>\n",
       "      <th>2</th>\n",
       "      <td>3</td>\n",
       "      <td>84</td>\n",
       "      <td>No</td>\n",
       "      <td>6</td>\n",
       "      <td>6</td>\n",
       "      <td>61.0</td>\n",
       "    </tr>\n",
       "    <tr>\n",
       "      <th>3</th>\n",
       "      <td>1</td>\n",
       "      <td>92</td>\n",
       "      <td>Yes</td>\n",
       "      <td>4</td>\n",
       "      <td>6</td>\n",
       "      <td>67.0</td>\n",
       "    </tr>\n",
       "    <tr>\n",
       "      <th>4</th>\n",
       "      <td>4</td>\n",
       "      <td>81</td>\n",
       "      <td>Yes</td>\n",
       "      <td>7</td>\n",
       "      <td>0</td>\n",
       "      <td>65.0</td>\n",
       "    </tr>\n",
       "    <tr>\n",
       "      <th>...</th>\n",
       "      <td>...</td>\n",
       "      <td>...</td>\n",
       "      <td>...</td>\n",
       "      <td>...</td>\n",
       "      <td>...</td>\n",
       "      <td>...</td>\n",
       "    </tr>\n",
       "    <tr>\n",
       "      <th>8995</th>\n",
       "      <td>8</td>\n",
       "      <td>50</td>\n",
       "      <td>Yes</td>\n",
       "      <td>6</td>\n",
       "      <td>6</td>\n",
       "      <td>48.0</td>\n",
       "    </tr>\n",
       "    <tr>\n",
       "      <th>8996</th>\n",
       "      <td>4</td>\n",
       "      <td>68</td>\n",
       "      <td>No</td>\n",
       "      <td>9</td>\n",
       "      <td>3</td>\n",
       "      <td>51.0</td>\n",
       "    </tr>\n",
       "    <tr>\n",
       "      <th>8997</th>\n",
       "      <td>9</td>\n",
       "      <td>48</td>\n",
       "      <td>No</td>\n",
       "      <td>7</td>\n",
       "      <td>6</td>\n",
       "      <td>44.0</td>\n",
       "    </tr>\n",
       "    <tr>\n",
       "      <th>8998</th>\n",
       "      <td>1</td>\n",
       "      <td>47</td>\n",
       "      <td>No</td>\n",
       "      <td>9</td>\n",
       "      <td>0</td>\n",
       "      <td>20.0</td>\n",
       "    </tr>\n",
       "    <tr>\n",
       "      <th>8999</th>\n",
       "      <td>2</td>\n",
       "      <td>46</td>\n",
       "      <td>No</td>\n",
       "      <td>6</td>\n",
       "      <td>6</td>\n",
       "      <td>24.0</td>\n",
       "    </tr>\n",
       "  </tbody>\n",
       "</table>\n",
       "<p>9000 rows × 6 columns</p>\n",
       "</div>"
      ],
      "text/plain": [
       "      Hours Studied  Previous Scores Extracurricular Activities  Sleep Hours  \\\n",
       "0                 1               54                        Yes            8   \n",
       "1                 1               87                        Yes            7   \n",
       "2                 3               84                         No            6   \n",
       "3                 1               92                        Yes            4   \n",
       "4                 4               81                        Yes            7   \n",
       "...             ...              ...                        ...          ...   \n",
       "8995              8               50                        Yes            6   \n",
       "8996              4               68                         No            9   \n",
       "8997              9               48                         No            7   \n",
       "8998              1               47                         No            9   \n",
       "8999              2               46                         No            6   \n",
       "\n",
       "      Sample Question Papers Practiced  Performance Index  \n",
       "0                                    5               28.0  \n",
       "1                                    5               64.0  \n",
       "2                                    6               61.0  \n",
       "3                                    6               67.0  \n",
       "4                                    0               65.0  \n",
       "...                                ...                ...  \n",
       "8995                                 6               48.0  \n",
       "8996                                 3               51.0  \n",
       "8997                                 6               44.0  \n",
       "8998                                 0               20.0  \n",
       "8999                                 6               24.0  \n",
       "\n",
       "[9000 rows x 6 columns]"
      ]
     },
     "execution_count": 110,
     "metadata": {},
     "output_type": "execute_result"
    }
   ],
   "source": [
    "data = pd.read_csv('training_data_student_perf.csv')\n",
    "data"
   ]
  },
  {
   "cell_type": "code",
   "execution_count": 111,
   "metadata": {},
   "outputs": [],
   "source": [
    "train = data.copy()\n",
    "labels = train.pop('Performance Index')"
   ]
  },
  {
   "cell_type": "code",
   "execution_count": 112,
   "metadata": {},
   "outputs": [
    {
     "data": {
      "text/plain": [
       "{'Hours Studied': <KerasTensor: shape=(None, 1) dtype=float32 (created by layer 'Hours Studied')>,\n",
       " 'Previous Scores': <KerasTensor: shape=(None, 1) dtype=float32 (created by layer 'Previous Scores')>,\n",
       " 'Extracurricular Activities': <KerasTensor: shape=(None, 1) dtype=string (created by layer 'Extracurricular Activities')>,\n",
       " 'Sleep Hours': <KerasTensor: shape=(None, 1) dtype=float32 (created by layer 'Sleep Hours')>,\n",
       " 'Sample Question Papers Practiced': <KerasTensor: shape=(None, 1) dtype=float32 (created by layer 'Sample Question Papers Practiced')>}"
      ]
     },
     "execution_count": 112,
     "metadata": {},
     "output_type": "execute_result"
    }
   ],
   "source": [
    "# Preprocessing the data\n",
    "inputs = {}\n",
    "\n",
    "for name, col in train.items():\n",
    "    dtype = col.dtype\n",
    "    \n",
    "    if dtype == object:\n",
    "        dtype = tf.string\n",
    "    else:\n",
    "        dtype = tf.float32\n",
    "    \n",
    "    inputs[name] = tf.keras.Input(shape=(1,), name=name, dtype=dtype)\n",
    "    \n",
    "inputs"
   ]
  },
  {
   "cell_type": "code",
   "execution_count": 113,
   "metadata": {},
   "outputs": [
    {
     "data": {
      "text/plain": [
       "<KerasTensor: shape=(None, 4) dtype=float32 (created by layer 'normalization_6')>"
      ]
     },
     "execution_count": 113,
     "metadata": {},
     "output_type": "execute_result"
    }
   ],
   "source": [
    "# concatenate the numeric inputs together, and run them through a normalization layer\n",
    "\n",
    "numeric_inputs = {name: input for name, input in inputs.items() if input.dtype == tf.float32}\n",
    "\n",
    "x = layers.Concatenate()(list(numeric_inputs.values()))     # Used to combine the numeric input layers into a single tensor\n",
    "norm = layers.Normalization()\n",
    "norm.adapt(np.array(data[numeric_inputs.keys()]))           # Sdapts the normalization layer to the statistics (mean and variance) of the numeric features in the training data\n",
    "all_numeric_inputs = norm(x)\n",
    "\n",
    "all_numeric_inputs"
   ]
  },
  {
   "cell_type": "code",
   "execution_count": 114,
   "metadata": {},
   "outputs": [],
   "source": [
    "preprocessed_inputs = [all_numeric_inputs]"
   ]
  },
  {
   "cell_type": "code",
   "execution_count": 115,
   "metadata": {},
   "outputs": [],
   "source": [
    "# Dealing with the string inputs\n",
    "\n",
    "for name, input in inputs.items():\n",
    "    if input.dtype == tf.float32:\n",
    "        continue\n",
    "    \n",
    "    lookup = layers.StringLookup(vocabulary=np.unique(train[name]))             # A preprocessing layer which maps string features to integer indices.\n",
    "    one_hot = layers.CategoryEncoding(num_tokens=lookup.vocabulary_size())\n",
    "    \n",
    "    x = lookup(input)\n",
    "    x = one_hot(x)\n",
    "    \n",
    "    preprocessed_inputs.append(x)"
   ]
  },
  {
   "cell_type": "code",
   "execution_count": 116,
   "metadata": {},
   "outputs": [
    {
     "data": {
      "text/plain": [
       "[<KerasTensor: shape=(None, 4) dtype=float32 (created by layer 'normalization_6')>,\n",
       " <KerasTensor: shape=(None, 3) dtype=float32 (created by layer 'category_encoding_6')>]"
      ]
     },
     "execution_count": 116,
     "metadata": {},
     "output_type": "execute_result"
    }
   ],
   "source": [
    "preprocessed_inputs"
   ]
  },
  {
   "cell_type": "code",
   "execution_count": 117,
   "metadata": {},
   "outputs": [],
   "source": [
    "# Concatenate all the preprocessed inputs together, and build a model that handles the preprocessing\n",
    "\n",
    "preprocessed_inputs_cat = layers.Concatenate()(preprocessed_inputs)\n",
    "\n",
    "preprocessing_model = tf.keras.Model(inputs, preprocessed_inputs_cat)\n",
    "\n",
    "# This model just contains the input preprocessing.\n",
    "# Keras models don't automatically convert pandas DataFrames because it's not clear if it should be \n",
    "# converted to one tensor or to a dictionary of tensors. So, we convert it into a dictionary of tensors."
   ]
  },
  {
   "cell_type": "code",
   "execution_count": 118,
   "metadata": {},
   "outputs": [],
   "source": [
    "train_dict = {name: np.array(value) for name, value in train.items()}"
   ]
  },
  {
   "cell_type": "code",
   "execution_count": 119,
   "metadata": {},
   "outputs": [
    {
     "data": {
      "text/plain": [
       "<tf.Tensor: shape=(1, 7), dtype=float32, numpy=\n",
       "array([[-1.537, -0.895,  0.858,  0.142,  0.   ,  0.   ,  1.   ]],\n",
       "      dtype=float32)>"
      ]
     },
     "execution_count": 119,
     "metadata": {},
     "output_type": "execute_result"
    }
   ],
   "source": [
    "# Passing one batch of data through the preprocessing model to see what happens to it.\n",
    "\n",
    "features_dict = {name:values[:1] for name, values in train_dict.items()}\n",
    "preprocessing_model(features_dict)\n",
    "\n",
    "# We can see that the preprocessing model takes in the raw data and returns a single tensor for each example.\n",
    "# The numeric features and string one-hots all concatenated together"
   ]
  },
  {
   "cell_type": "code",
   "execution_count": 120,
   "metadata": {},
   "outputs": [],
   "source": [
    "def build_model(preprocessing_head, inputs):\n",
    "    body = tf.keras.Sequential([\n",
    "        layers.Dense(32),\n",
    "        layers.Dropout(0.5),\n",
    "        layers.Dense(64),\n",
    "        layers.Dropout(0.4),\n",
    "        layers.Dense(1)\n",
    "    ])\n",
    "    \n",
    "    preprocessed_inputs = preprocessing_head(inputs)\n",
    "    result = body(preprocessed_inputs)\n",
    "    \n",
    "    model = tf.keras.Model(inputs, result)\n",
    "    \n",
    "    model.compile(loss=tf.losses.MeanSquaredError(), optimizer=tf.optimizers.Adam())\n",
    "    \n",
    "    return model\n",
    "\n",
    "model = build_model(preprocessing_model, inputs)"
   ]
  },
  {
   "cell_type": "code",
   "execution_count": 121,
   "metadata": {},
   "outputs": [
    {
     "name": "stdout",
     "output_type": "stream",
     "text": [
      "Epoch 1/5\n",
      "282/282 [==============================] - 6s 17ms/step - loss: 1231.4812\n",
      "Epoch 2/5\n",
      "282/282 [==============================] - 6s 22ms/step - loss: 183.0338\n",
      "Epoch 3/5\n",
      "282/282 [==============================] - 9s 31ms/step - loss: 162.2968\n",
      "Epoch 4/5\n",
      "282/282 [==============================] - 6s 22ms/step - loss: 145.6754\n",
      "Epoch 5/5\n",
      "282/282 [==============================] - 6s 21ms/step - loss: 132.4440\n"
     ]
    },
    {
     "data": {
      "text/plain": [
       "' \\nModel v1:\\nEpoch 1/5\\n282/282 [==============================] - 8s 17ms/step - loss: 2582.1079\\nEpoch 2/5\\n282/282 [==============================] - 5s 18ms/step - loss: 426.6039\\nEpoch 3/5\\n282/282 [==============================] - 5s 16ms/step - loss: 8.5628\\nEpoch 4/5\\n282/282 [==============================] - 7s 24ms/step - loss: 4.2276\\nEpoch 5/5\\n282/282 [==============================] - 7s 26ms/step - loss: 4.1705\\n\\nModel v2:\\n\\n'"
      ]
     },
     "execution_count": 121,
     "metadata": {},
     "output_type": "execute_result"
    }
   ],
   "source": [
    "model.fit(train_dict, labels, epochs=5)\n",
    "\n",
    "\"\"\" \n",
    "Model v1:\n",
    "\n",
    "Epoch 1/5\n",
    "282/282 [==============================] - 8s 17ms/step - loss: 2582.1079\n",
    "Epoch 2/5\n",
    "282/282 [==============================] - 5s 18ms/step - loss: 426.6039\n",
    "Epoch 3/5\n",
    "282/282 [==============================] - 5s 16ms/step - loss: 8.5628             Overfitting?\n",
    "Epoch 4/5\n",
    "282/282 [==============================] - 7s 24ms/step - loss: 4.2276\n",
    "Epoch 5/5\n",
    "282/282 [==============================] - 7s 26ms/step - loss: 4.1705\n",
    "\n",
    "Model v2:\n",
    "\n",
    "Epoch 1/5\n",
    "282/282 [==============================] - 6s 17ms/step - loss: 1231.4812\n",
    "Epoch 2/5\n",
    "282/282 [==============================] - 6s 22ms/step - loss: 183.0338\n",
    "Epoch 3/5\n",
    "282/282 [==============================] - 9s 31ms/step - loss: 162.2968\n",
    "Epoch 4/5\n",
    "282/282 [==============================] - 6s 22ms/step - loss: 145.6754\n",
    "Epoch 5/5\n",
    "282/282 [==============================] - 6s 21ms/step - loss: 132.4440\n",
    "\n",
    "\"\"\""
   ]
  },
  {
   "cell_type": "code",
   "execution_count": 122,
   "metadata": {},
   "outputs": [],
   "source": [
    "model.save('marks_predictor_v2.h5')"
   ]
  },
  {
   "cell_type": "code",
   "execution_count": 123,
   "metadata": {},
   "outputs": [],
   "source": [
    "# # Saving the model using pickle\n",
    "# import pickle\n",
    "\n",
    "# with open('marks_predictor_v1.pkl', 'wb') as f:\n",
    "#     pickle.dump(model, f)"
   ]
  },
  {
   "cell_type": "code",
   "execution_count": 124,
   "metadata": {},
   "outputs": [],
   "source": [
    "loaded_model = tf.keras.models.load_model('marks_predictor_v2.h5')"
   ]
  },
  {
   "cell_type": "code",
   "execution_count": 125,
   "metadata": {},
   "outputs": [
    {
     "name": "stderr",
     "output_type": "stream",
     "text": [
      "c:\\Python\\Python310\\lib\\site-packages\\keras\\engine\\functional.py:637: UserWarning: Input dict contained keys ['ID'] which did not match any model input. They will be ignored by the model.\n",
      "  inputs = self._flatten_to_reference_inputs(inputs)\n"
     ]
    },
    {
     "name": "stdout",
     "output_type": "stream",
     "text": [
      "32/32 [==============================] - 1s 24ms/step\n"
     ]
    }
   ],
   "source": [
    "# Preparing the test data in the same way we prepared the training data \n",
    "\n",
    "test_data = pd.read_csv('test_data_student_perf.csv')\n",
    "\n",
    "test_dict = {name: np.array(value) for name, value in test_data.items()}\n",
    "\n",
    "# Writing the predictions into a csv file\n",
    "with open('predictions_v1.csv', 'w') as file:\n",
    "    for pred in loaded_model.predict(test_dict):\n",
    "        file.write(str(pred[0]) + '\\n')\n"
   ]
  },
  {
   "cell_type": "code",
   "execution_count": 126,
   "metadata": {},
   "outputs": [
    {
     "name": "stdout",
     "output_type": "stream",
     "text": [
      "1/1 [==============================] - 0s 235ms/step\n",
      "73.039\n"
     ]
    }
   ],
   "source": [
    "# Function that takes ID,Hours Studied,Previous Scores,Extracurricular Activities,Sleep Hours,Sample Question Papers Practiced\n",
    "# as inputs and returns the predicted performance index\n",
    "\n",
    "def predict(hrs_std, prev_scr, ex_ac, sleep, qp):\n",
    "    test = pd.DataFrame({'Hours Studied': [hrs_std], 'Previous Scores': [prev_scr], 'Extracurricular Activities': [ex_ac], 'Sleep Hours': [sleep], 'Sample Question Papers Practiced': [qp]})\n",
    "    test_dict = {name: np.array(value) for name, value in test.items()}\n",
    "    return model.predict(test_dict)[0][0]\n",
    "\n",
    "print(predict(5, 90, \"Yes\", 7, 5))"
   ]
  },
  {
   "cell_type": "code",
   "execution_count": null,
   "metadata": {},
   "outputs": [],
   "source": []
  },
  {
   "cell_type": "code",
   "execution_count": null,
   "metadata": {},
   "outputs": [],
   "source": []
  },
  {
   "cell_type": "code",
   "execution_count": null,
   "metadata": {},
   "outputs": [],
   "source": []
  },
  {
   "cell_type": "code",
   "execution_count": null,
   "metadata": {},
   "outputs": [],
   "source": []
  }
 ],
 "metadata": {
  "kernelspec": {
   "display_name": "Python 3",
   "language": "python",
   "name": "python3"
  },
  "language_info": {
   "codemirror_mode": {
    "name": "ipython",
    "version": 3
   },
   "file_extension": ".py",
   "mimetype": "text/x-python",
   "name": "python",
   "nbconvert_exporter": "python",
   "pygments_lexer": "ipython3",
   "version": "3.10.8"
  }
 },
 "nbformat": 4,
 "nbformat_minor": 2
}
